{
  "nbformat": 4,
  "nbformat_minor": 0,
  "metadata": {
    "colab": {
      "provenance": [],
      "authorship_tag": "ABX9TyMM3Zq+ojrAMQZr+XknOnsO",
      "include_colab_link": true
    },
    "kernelspec": {
      "name": "python3",
      "display_name": "Python 3"
    },
    "language_info": {
      "name": "python"
    }
  },
  "cells": [
    {
      "cell_type": "markdown",
      "metadata": {
        "id": "view-in-github",
        "colab_type": "text"
      },
      "source": [
        "<a href=\"https://colab.research.google.com/github/username06983/geospatial_ETL_ELT/blob/main/data226_assignment6_elt.ipynb\" target=\"_parent\"><img src=\"https://colab.research.google.com/assets/colab-badge.svg\" alt=\"Open In Colab\"/></a>"
      ]
    },
    {
      "cell_type": "code",
      "execution_count": null,
      "metadata": {
        "id": "uTiKOARDWFPb"
      },
      "outputs": [],
      "source": [
        "from airflow.decorators import task\n",
        "from airflow import DAG\n",
        "from airflow.models import Variable\n",
        "from airflow.operators.python import get_current_context\n",
        "from airflow.providers.snowflake.hooks.snowflake import SnowflakeHook\n",
        "\n",
        "from datetime import datetime\n",
        "from datetime import timedelta\n",
        "import logging\n",
        "import snowflake.connector"
      ]
    },
    {
      "cell_type": "code",
      "source": [
        "def return_snowflake_conn():\n",
        "\n",
        "    # Initialize the SnowflakeHook\n",
        "    hook = SnowflakeHook(snowflake_conn_id='snowflake_conn')\n",
        "\n",
        "    # Execute the query and fetch results\n",
        "    conn = hook.get_conn()\n",
        "    return conn.cursor()"
      ],
      "metadata": {
        "id": "7eiv2fs-WMpN"
      },
      "execution_count": null,
      "outputs": []
    },
    {
      "cell_type": "code",
      "source": [
        "@task\n",
        "def run_ctas(schema, table, select_sql, primary_key=None):\n",
        "\n",
        "    logging.info(table)\n",
        "    logging.info(select_sql)\n",
        "\n",
        "    cur = return_snowflake_conn()\n",
        "\n",
        "    try:\n",
        "        sql = f\"CREATE OR REPLACE TABLE {schema}.temp_{table} AS {select_sql}\"\n",
        "        logging.info(sql)\n",
        "        cur.execute(sql)\n",
        "\n",
        "        # do primary key uniquess check\n",
        "        if primary_key is not None:\n",
        "            sql = f\"\"\"\n",
        "              SELECT {primary_key}, COUNT(1) AS cnt\n",
        "              FROM {schema}.temp_{table}\n",
        "              GROUP BY 1\n",
        "              ORDER BY 2 DESC\n",
        "              LIMIT 1\"\"\"\n",
        "            print(sql)\n",
        "            cur.execute(sql)\n",
        "            result = cur.fetchone()\n",
        "            print(result, result[1])\n",
        "            if int(result[1]) > 1:\n",
        "                print(\"!!!!!!!!!!!!!!\")\n",
        "                raise Exception(f\"Primary key uniqueness failed: {result}\")\n",
        "\n",
        "        #check duplicates\n",
        "        duplicate_check_sql = f\"\"\"\n",
        "        SELECT COUNT(*) - COUNT(DISTINCT {primary_key if primary_key else '*'}) AS duplicate_count\n",
        "        FROM {schema}.temp_{table}\"\"\"\n",
        "        print(duplicate_check_sql)\n",
        "        cur.execute(duplicate_check_sql)\n",
        "        dup_result = cur.fetchone()\n",
        "        print(f\"Duplicate records found: {dup_result[0]}\")\n",
        "        if int(dup_result[0]) > 0:\n",
        "            raise Exception(f\"Duplicate records detected: {dup_result[0]} duplicates found\")\n",
        "\n",
        "\n",
        "        main_table_creation_if_not_exists_sql = f\"\"\"\n",
        "            CREATE TABLE IF NOT EXISTS {schema}.{table} AS\n",
        "            SELECT * FROM {schema}.temp_{table} WHERE 1=0;\"\"\"\n",
        "        cur.execute(main_table_creation_if_not_exists_sql)\n",
        "\n",
        "        swap_sql = f\"\"\"ALTER TABLE {schema}.{table} SWAP WITH {schema}.temp_{table};\"\"\"\n",
        "        cur.execute(swap_sql)\n",
        "    except Exception as e:\n",
        "        raise"
      ],
      "metadata": {
        "id": "evsUFIs0WPwE"
      },
      "execution_count": null,
      "outputs": []
    },
    {
      "cell_type": "code",
      "source": [
        "with DAG(\n",
        "    dag_id = 'BuildELT_CTAS',\n",
        "    start_date = datetime(2024,10,2),\n",
        "    catchup=False,\n",
        "    tags=['ELT'],\n",
        "    schedule = '45 2 * * *'\n",
        ") as dag:\n",
        "\n",
        "    schema = \"analytics\"\n",
        "    table = \"session_summary\"\n",
        "    select_sql = \"\"\"SELECT u.*, s.ts\n",
        "    FROM raw.user_session_channel u\n",
        "    JOIN raw.session_timestamp s ON u.SESSIONID=s.SESSIONID\n",
        "    \"\"\"\n",
        "\n",
        "    run_ctas(schema, table, select_sql, primary_key='SESSIONID')"
      ],
      "metadata": {
        "id": "EzYJLxKQWViW"
      },
      "execution_count": null,
      "outputs": []
    }
  ]
}